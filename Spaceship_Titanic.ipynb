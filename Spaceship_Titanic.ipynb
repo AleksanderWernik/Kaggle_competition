{
 "cells": [
  {
   "cell_type": "code",
   "execution_count": 90,
   "id": "5f0b501b",
   "metadata": {},
   "outputs": [],
   "source": [
    "import pandas as pd\n",
    "import numpy as np\n",
    "import matplotlib.pyplot as plt\n",
    "import seaborn as sns\n",
    "\n",
    "# Libraries for dealing with null values\n",
    "from sklearn.experimental import enable_iterative_imputer\n",
    "from sklearn.impute import IterativeImputer\n",
    "\n",
    "# Data Pre-processing Libraries\n",
    "from sklearn.preprocessing import StandardScaler,MinMaxScaler\n",
    "from sklearn.model_selection import train_test_split\n",
    "\n",
    "# Modelling Libraries\n",
    "from xgboost import XGBClassifier\n",
    "from catboost import CatBoostClassifier\n",
    "from lightgbm import LGBMClassifier\n",
    "\n",
    "# Evaluation & CV Libraries\n",
    "from sklearn.metrics import precision_score,accuracy_score\n",
    "from sklearn.model_selection import RandomizedSearchCV,GridSearchCV,StratifiedKFold, KFold, cross_val_score\n",
    "from sklearn.metrics import roc_curve, roc_auc_score, classification_report, confusion_matrix\n",
    "import warnings\n",
    "import optuna\n",
    "from optuna.samplers import TPESampler\n",
    "import torch\n",
    "import torch.nn as nn\n",
    "from tqdm import tqdm"
   ]
  },
  {
   "cell_type": "markdown",
   "id": "37bf274a",
   "metadata": {},
   "source": [
    "# Load the data"
   ]
  },
  {
   "cell_type": "code",
   "execution_count": 2,
   "id": "fd7cdb39",
   "metadata": {},
   "outputs": [
    {
     "data": {
      "text/html": [
       "<div>\n",
       "<style scoped>\n",
       "    .dataframe tbody tr th:only-of-type {\n",
       "        vertical-align: middle;\n",
       "    }\n",
       "\n",
       "    .dataframe tbody tr th {\n",
       "        vertical-align: top;\n",
       "    }\n",
       "\n",
       "    .dataframe thead th {\n",
       "        text-align: right;\n",
       "    }\n",
       "</style>\n",
       "<table border=\"1\" class=\"dataframe\">\n",
       "  <thead>\n",
       "    <tr style=\"text-align: right;\">\n",
       "      <th></th>\n",
       "      <th>PassengerId</th>\n",
       "      <th>Transported</th>\n",
       "    </tr>\n",
       "  </thead>\n",
       "  <tbody>\n",
       "    <tr>\n",
       "      <th>0</th>\n",
       "      <td>0013_01</td>\n",
       "      <td>False</td>\n",
       "    </tr>\n",
       "    <tr>\n",
       "      <th>1</th>\n",
       "      <td>0018_01</td>\n",
       "      <td>False</td>\n",
       "    </tr>\n",
       "    <tr>\n",
       "      <th>2</th>\n",
       "      <td>0019_01</td>\n",
       "      <td>False</td>\n",
       "    </tr>\n",
       "    <tr>\n",
       "      <th>3</th>\n",
       "      <td>0021_01</td>\n",
       "      <td>False</td>\n",
       "    </tr>\n",
       "    <tr>\n",
       "      <th>4</th>\n",
       "      <td>0023_01</td>\n",
       "      <td>False</td>\n",
       "    </tr>\n",
       "    <tr>\n",
       "      <th>...</th>\n",
       "      <td>...</td>\n",
       "      <td>...</td>\n",
       "    </tr>\n",
       "    <tr>\n",
       "      <th>4272</th>\n",
       "      <td>9266_02</td>\n",
       "      <td>False</td>\n",
       "    </tr>\n",
       "    <tr>\n",
       "      <th>4273</th>\n",
       "      <td>9269_01</td>\n",
       "      <td>False</td>\n",
       "    </tr>\n",
       "    <tr>\n",
       "      <th>4274</th>\n",
       "      <td>9271_01</td>\n",
       "      <td>False</td>\n",
       "    </tr>\n",
       "    <tr>\n",
       "      <th>4275</th>\n",
       "      <td>9273_01</td>\n",
       "      <td>False</td>\n",
       "    </tr>\n",
       "    <tr>\n",
       "      <th>4276</th>\n",
       "      <td>9277_01</td>\n",
       "      <td>False</td>\n",
       "    </tr>\n",
       "  </tbody>\n",
       "</table>\n",
       "<p>4277 rows × 2 columns</p>\n",
       "</div>"
      ],
      "text/plain": [
       "     PassengerId  Transported\n",
       "0        0013_01        False\n",
       "1        0018_01        False\n",
       "2        0019_01        False\n",
       "3        0021_01        False\n",
       "4        0023_01        False\n",
       "...          ...          ...\n",
       "4272     9266_02        False\n",
       "4273     9269_01        False\n",
       "4274     9271_01        False\n",
       "4275     9273_01        False\n",
       "4276     9277_01        False\n",
       "\n",
       "[4277 rows x 2 columns]"
      ]
     },
     "execution_count": 2,
     "metadata": {},
     "output_type": "execute_result"
    }
   ],
   "source": [
    "# sample_submission csv file\n",
    "ss = pd.read_csv('sample_submission.csv')\n",
    "ss"
   ]
  },
  {
   "cell_type": "code",
   "execution_count": 3,
   "id": "c74afe22",
   "metadata": {},
   "outputs": [
    {
     "name": "stdout",
     "output_type": "stream",
     "text": [
      "Number of nunique Id's: 4277.0\n",
      "Number of Transported:  False    1.0\n",
      "Name: Transported, dtype: float64\n"
     ]
    }
   ],
   "source": [
    "print(\"Number of nunique Id's: {:.1f}\".format(ss['PassengerId'].nunique()))\n",
    "print(\"Number of Transported: \", ss['Transported'].value_counts(normalize=True))"
   ]
  },
  {
   "cell_type": "code",
   "execution_count": 4,
   "id": "234ebb98",
   "metadata": {},
   "outputs": [],
   "source": [
    "# train and test csv files\n",
    "test=pd.read_csv('test.csv')\n",
    "train=pd.read_csv('train.csv')"
   ]
  },
  {
   "cell_type": "code",
   "execution_count": 5,
   "id": "9d1d0de4",
   "metadata": {},
   "outputs": [
    {
     "name": "stdout",
     "output_type": "stream",
     "text": [
      "<class 'pandas.core.frame.DataFrame'>\n",
      "RangeIndex: 4277 entries, 0 to 4276\n",
      "Data columns (total 13 columns):\n",
      " #   Column        Non-Null Count  Dtype  \n",
      "---  ------        --------------  -----  \n",
      " 0   PassengerId   4277 non-null   object \n",
      " 1   HomePlanet    4190 non-null   object \n",
      " 2   CryoSleep     4184 non-null   object \n",
      " 3   Cabin         4177 non-null   object \n",
      " 4   Destination   4185 non-null   object \n",
      " 5   Age           4186 non-null   float64\n",
      " 6   VIP           4184 non-null   object \n",
      " 7   RoomService   4195 non-null   float64\n",
      " 8   FoodCourt     4171 non-null   float64\n",
      " 9   ShoppingMall  4179 non-null   float64\n",
      " 10  Spa           4176 non-null   float64\n",
      " 11  VRDeck        4197 non-null   float64\n",
      " 12  Name          4183 non-null   object \n",
      "dtypes: float64(6), object(7)\n",
      "memory usage: 434.5+ KB\n"
     ]
    }
   ],
   "source": [
    "test.info()"
   ]
  },
  {
   "cell_type": "code",
   "execution_count": 6,
   "id": "634a25a3",
   "metadata": {},
   "outputs": [
    {
     "name": "stdout",
     "output_type": "stream",
     "text": [
      "<class 'pandas.core.frame.DataFrame'>\n",
      "RangeIndex: 8693 entries, 0 to 8692\n",
      "Data columns (total 14 columns):\n",
      " #   Column        Non-Null Count  Dtype  \n",
      "---  ------        --------------  -----  \n",
      " 0   PassengerId   8693 non-null   object \n",
      " 1   HomePlanet    8492 non-null   object \n",
      " 2   CryoSleep     8476 non-null   object \n",
      " 3   Cabin         8494 non-null   object \n",
      " 4   Destination   8511 non-null   object \n",
      " 5   Age           8514 non-null   float64\n",
      " 6   VIP           8490 non-null   object \n",
      " 7   RoomService   8512 non-null   float64\n",
      " 8   FoodCourt     8510 non-null   float64\n",
      " 9   ShoppingMall  8485 non-null   float64\n",
      " 10  Spa           8510 non-null   float64\n",
      " 11  VRDeck        8505 non-null   float64\n",
      " 12  Name          8493 non-null   object \n",
      " 13  Transported   8693 non-null   bool   \n",
      "dtypes: bool(1), float64(6), object(7)\n",
      "memory usage: 891.5+ KB\n"
     ]
    }
   ],
   "source": [
    "train.info()"
   ]
  },
  {
   "cell_type": "markdown",
   "id": "5572f12b",
   "metadata": {},
   "source": [
    "## File and Data Field Descriptions\n",
    "\n",
    "    PassengerId - A unique Id for each passenger. Each Id takes the form gggg_pp where gggg indicates a group the passenger is travelling with and pp is their number within the group. People in a group are often family members, but not always.\n",
    "    \n",
    "    HomePlanet - The planet the passenger departed from, typically their planet of permanent residence.\n",
    "    \n",
    "    CryoSleep - Indicates whether the passenger elected to be put into suspended animation for the duration of the voyage. Passengers in cryosleep are confined to their cabins.\n",
    "    \n",
    "    Cabin - The cabin number where the passenger is staying. Takes the form deck/num/side, where side can be either P for Port or S for Starboard.\n",
    "    \n",
    "    Destination - The planet the passenger will be debarking to.\n",
    "    \n",
    "    Age - The age of the passenger.\n",
    "    \n",
    "    VIP - Whether the passenger has paid for special VIP service during the voyage.\n",
    "    \n",
    "    RoomService, FoodCourt, ShoppingMall, Spa, VRDeck - Amount the passenger has billed at each of the Spaceship Titanic's many luxury amenities.\n",
    "    \n",
    "    Name - The first and last names of the passenger.\n",
    "    \n",
    "    Transported - Whether the passenger was transported to another dimension. This is the target, the column you are trying to predict."
   ]
  },
  {
   "cell_type": "code",
   "execution_count": 7,
   "id": "db269ae1",
   "metadata": {},
   "outputs": [],
   "source": [
    "# merge test.csv and sample_submission.csv  on PassengerId\n",
    "df1 = pd.merge(test, ss, how='inner', on='PassengerId')\n",
    "df1['train_test'] = 'test'"
   ]
  },
  {
   "cell_type": "code",
   "execution_count": 8,
   "id": "29c18b52",
   "metadata": {},
   "outputs": [
    {
     "data": {
      "text/html": [
       "<div>\n",
       "<style scoped>\n",
       "    .dataframe tbody tr th:only-of-type {\n",
       "        vertical-align: middle;\n",
       "    }\n",
       "\n",
       "    .dataframe tbody tr th {\n",
       "        vertical-align: top;\n",
       "    }\n",
       "\n",
       "    .dataframe thead th {\n",
       "        text-align: right;\n",
       "    }\n",
       "</style>\n",
       "<table border=\"1\" class=\"dataframe\">\n",
       "  <thead>\n",
       "    <tr style=\"text-align: right;\">\n",
       "      <th></th>\n",
       "      <th>PassengerId</th>\n",
       "      <th>HomePlanet</th>\n",
       "      <th>CryoSleep</th>\n",
       "      <th>Cabin</th>\n",
       "      <th>Destination</th>\n",
       "      <th>Age</th>\n",
       "      <th>VIP</th>\n",
       "      <th>RoomService</th>\n",
       "      <th>FoodCourt</th>\n",
       "      <th>ShoppingMall</th>\n",
       "      <th>Spa</th>\n",
       "      <th>VRDeck</th>\n",
       "      <th>Name</th>\n",
       "      <th>Transported</th>\n",
       "      <th>train_test</th>\n",
       "    </tr>\n",
       "  </thead>\n",
       "  <tbody>\n",
       "    <tr>\n",
       "      <th>3174</th>\n",
       "      <td>3422_02</td>\n",
       "      <td>Europa</td>\n",
       "      <td>True</td>\n",
       "      <td>E/209/P</td>\n",
       "      <td>TRAPPIST-1e</td>\n",
       "      <td>27.0</td>\n",
       "      <td>False</td>\n",
       "      <td>0.0</td>\n",
       "      <td>0.0</td>\n",
       "      <td>0.0</td>\n",
       "      <td>0.0</td>\n",
       "      <td>0.0</td>\n",
       "      <td>Atonib Crakete</td>\n",
       "      <td>True</td>\n",
       "      <td>train</td>\n",
       "    </tr>\n",
       "    <tr>\n",
       "      <th>4919</th>\n",
       "      <td>5246_02</td>\n",
       "      <td>Earth</td>\n",
       "      <td>False</td>\n",
       "      <td>F/1070/P</td>\n",
       "      <td>TRAPPIST-1e</td>\n",
       "      <td>NaN</td>\n",
       "      <td>False</td>\n",
       "      <td>0.0</td>\n",
       "      <td>13.0</td>\n",
       "      <td>643.0</td>\n",
       "      <td>47.0</td>\n",
       "      <td>0.0</td>\n",
       "      <td>Jodia Drakeekss</td>\n",
       "      <td>True</td>\n",
       "      <td>train</td>\n",
       "    </tr>\n",
       "    <tr>\n",
       "      <th>7544</th>\n",
       "      <td>8064_02</td>\n",
       "      <td>Mars</td>\n",
       "      <td>False</td>\n",
       "      <td>E/534/S</td>\n",
       "      <td>TRAPPIST-1e</td>\n",
       "      <td>0.0</td>\n",
       "      <td>False</td>\n",
       "      <td>0.0</td>\n",
       "      <td>0.0</td>\n",
       "      <td>0.0</td>\n",
       "      <td>0.0</td>\n",
       "      <td>0.0</td>\n",
       "      <td>Elos Erte</td>\n",
       "      <td>True</td>\n",
       "      <td>train</td>\n",
       "    </tr>\n",
       "    <tr>\n",
       "      <th>3076</th>\n",
       "      <td>3318_03</td>\n",
       "      <td>Europa</td>\n",
       "      <td>False</td>\n",
       "      <td>B/123/S</td>\n",
       "      <td>TRAPPIST-1e</td>\n",
       "      <td>11.0</td>\n",
       "      <td>False</td>\n",
       "      <td>0.0</td>\n",
       "      <td>0.0</td>\n",
       "      <td>0.0</td>\n",
       "      <td>0.0</td>\n",
       "      <td>0.0</td>\n",
       "      <td>Altara Openduave</td>\n",
       "      <td>True</td>\n",
       "      <td>train</td>\n",
       "    </tr>\n",
       "    <tr>\n",
       "      <th>3</th>\n",
       "      <td>0003_02</td>\n",
       "      <td>Europa</td>\n",
       "      <td>False</td>\n",
       "      <td>A/0/S</td>\n",
       "      <td>TRAPPIST-1e</td>\n",
       "      <td>33.0</td>\n",
       "      <td>False</td>\n",
       "      <td>0.0</td>\n",
       "      <td>1283.0</td>\n",
       "      <td>371.0</td>\n",
       "      <td>3329.0</td>\n",
       "      <td>193.0</td>\n",
       "      <td>Solam Susent</td>\n",
       "      <td>False</td>\n",
       "      <td>train</td>\n",
       "    </tr>\n",
       "  </tbody>\n",
       "</table>\n",
       "</div>"
      ],
      "text/plain": [
       "     PassengerId HomePlanet CryoSleep     Cabin  Destination   Age    VIP  \\\n",
       "3174     3422_02     Europa      True   E/209/P  TRAPPIST-1e  27.0  False   \n",
       "4919     5246_02      Earth     False  F/1070/P  TRAPPIST-1e   NaN  False   \n",
       "7544     8064_02       Mars     False   E/534/S  TRAPPIST-1e   0.0  False   \n",
       "3076     3318_03     Europa     False   B/123/S  TRAPPIST-1e  11.0  False   \n",
       "3        0003_02     Europa     False     A/0/S  TRAPPIST-1e  33.0  False   \n",
       "\n",
       "      RoomService  FoodCourt  ShoppingMall     Spa  VRDeck              Name  \\\n",
       "3174          0.0        0.0           0.0     0.0     0.0    Atonib Crakete   \n",
       "4919          0.0       13.0         643.0    47.0     0.0   Jodia Drakeekss   \n",
       "7544          0.0        0.0           0.0     0.0     0.0         Elos Erte   \n",
       "3076          0.0        0.0           0.0     0.0     0.0  Altara Openduave   \n",
       "3             0.0     1283.0         371.0  3329.0   193.0      Solam Susent   \n",
       "\n",
       "      Transported train_test  \n",
       "3174         True      train  \n",
       "4919         True      train  \n",
       "7544         True      train  \n",
       "3076         True      train  \n",
       "3           False      train  "
      ]
     },
     "execution_count": 8,
     "metadata": {},
     "output_type": "execute_result"
    }
   ],
   "source": [
    "# concatenate new df1 and train.csv\n",
    "train['train_test'] = 'train'\n",
    "df = pd.concat([train,df1]).reset_index(drop=True)\n",
    "df.sample(5)"
   ]
  },
  {
   "cell_type": "code",
   "execution_count": 9,
   "id": "f8c383f4",
   "metadata": {},
   "outputs": [
    {
     "data": {
      "text/plain": [
       "PassengerId       0\n",
       "HomePlanet      288\n",
       "CryoSleep       310\n",
       "Cabin           299\n",
       "Destination     274\n",
       "Age             270\n",
       "VIP             296\n",
       "RoomService     263\n",
       "FoodCourt       289\n",
       "ShoppingMall    306\n",
       "Spa             284\n",
       "VRDeck          268\n",
       "Name            294\n",
       "Transported       0\n",
       "train_test        0\n",
       "dtype: int64"
      ]
     },
     "execution_count": 9,
     "metadata": {},
     "output_type": "execute_result"
    }
   ],
   "source": [
    "# checking null values in df\n",
    "df.isnull().sum()"
   ]
  },
  {
   "cell_type": "code",
   "execution_count": 10,
   "id": "2ac11e8d",
   "metadata": {},
   "outputs": [],
   "source": [
    "# Individual Name for each passenger, this information wont be helpful in future calculation. I drop this column:\n",
    "df.drop('Name', axis=1, inplace=True)"
   ]
  },
  {
   "cell_type": "markdown",
   "id": "57844e1d",
   "metadata": {},
   "source": [
    "## Dealing with missing values"
   ]
  },
  {
   "cell_type": "code",
   "execution_count": 11,
   "id": "f167a582",
   "metadata": {},
   "outputs": [
    {
     "data": {
      "text/html": [
       "<div>\n",
       "<style scoped>\n",
       "    .dataframe tbody tr th:only-of-type {\n",
       "        vertical-align: middle;\n",
       "    }\n",
       "\n",
       "    .dataframe tbody tr th {\n",
       "        vertical-align: top;\n",
       "    }\n",
       "\n",
       "    .dataframe thead th {\n",
       "        text-align: right;\n",
       "    }\n",
       "</style>\n",
       "<table border=\"1\" class=\"dataframe\">\n",
       "  <thead>\n",
       "    <tr style=\"text-align: right;\">\n",
       "      <th></th>\n",
       "      <th>Age</th>\n",
       "      <th>RoomService</th>\n",
       "      <th>FoodCourt</th>\n",
       "      <th>ShoppingMall</th>\n",
       "      <th>Spa</th>\n",
       "      <th>VRDeck</th>\n",
       "    </tr>\n",
       "  </thead>\n",
       "  <tbody>\n",
       "    <tr>\n",
       "      <th>count</th>\n",
       "      <td>4467.000000</td>\n",
       "      <td>4488.0</td>\n",
       "      <td>4472.0</td>\n",
       "      <td>4450.0</td>\n",
       "      <td>4474.0</td>\n",
       "      <td>4490.0</td>\n",
       "    </tr>\n",
       "    <tr>\n",
       "      <th>mean</th>\n",
       "      <td>27.510857</td>\n",
       "      <td>0.0</td>\n",
       "      <td>0.0</td>\n",
       "      <td>0.0</td>\n",
       "      <td>0.0</td>\n",
       "      <td>0.0</td>\n",
       "    </tr>\n",
       "    <tr>\n",
       "      <th>std</th>\n",
       "      <td>14.887864</td>\n",
       "      <td>0.0</td>\n",
       "      <td>0.0</td>\n",
       "      <td>0.0</td>\n",
       "      <td>0.0</td>\n",
       "      <td>0.0</td>\n",
       "    </tr>\n",
       "    <tr>\n",
       "      <th>min</th>\n",
       "      <td>0.000000</td>\n",
       "      <td>0.0</td>\n",
       "      <td>0.0</td>\n",
       "      <td>0.0</td>\n",
       "      <td>0.0</td>\n",
       "      <td>0.0</td>\n",
       "    </tr>\n",
       "    <tr>\n",
       "      <th>25%</th>\n",
       "      <td>18.000000</td>\n",
       "      <td>0.0</td>\n",
       "      <td>0.0</td>\n",
       "      <td>0.0</td>\n",
       "      <td>0.0</td>\n",
       "      <td>0.0</td>\n",
       "    </tr>\n",
       "    <tr>\n",
       "      <th>50%</th>\n",
       "      <td>26.000000</td>\n",
       "      <td>0.0</td>\n",
       "      <td>0.0</td>\n",
       "      <td>0.0</td>\n",
       "      <td>0.0</td>\n",
       "      <td>0.0</td>\n",
       "    </tr>\n",
       "    <tr>\n",
       "      <th>75%</th>\n",
       "      <td>37.000000</td>\n",
       "      <td>0.0</td>\n",
       "      <td>0.0</td>\n",
       "      <td>0.0</td>\n",
       "      <td>0.0</td>\n",
       "      <td>0.0</td>\n",
       "    </tr>\n",
       "    <tr>\n",
       "      <th>max</th>\n",
       "      <td>78.000000</td>\n",
       "      <td>0.0</td>\n",
       "      <td>0.0</td>\n",
       "      <td>0.0</td>\n",
       "      <td>0.0</td>\n",
       "      <td>0.0</td>\n",
       "    </tr>\n",
       "  </tbody>\n",
       "</table>\n",
       "</div>"
      ],
      "text/plain": [
       "               Age  RoomService  FoodCourt  ShoppingMall     Spa  VRDeck\n",
       "count  4467.000000       4488.0     4472.0        4450.0  4474.0  4490.0\n",
       "mean     27.510857          0.0        0.0           0.0     0.0     0.0\n",
       "std      14.887864          0.0        0.0           0.0     0.0     0.0\n",
       "min       0.000000          0.0        0.0           0.0     0.0     0.0\n",
       "25%      18.000000          0.0        0.0           0.0     0.0     0.0\n",
       "50%      26.000000          0.0        0.0           0.0     0.0     0.0\n",
       "75%      37.000000          0.0        0.0           0.0     0.0     0.0\n",
       "max      78.000000          0.0        0.0           0.0     0.0     0.0"
      ]
     },
     "execution_count": 11,
     "metadata": {},
     "output_type": "execute_result"
    }
   ],
   "source": [
    "# when people are in Cryosleep don't pay for luxury amenities\n",
    "df[df['CryoSleep']==True].describe()"
   ]
  },
  {
   "cell_type": "code",
   "execution_count": 12,
   "id": "6de2c686",
   "metadata": {},
   "outputs": [
    {
     "data": {
      "text/html": [
       "<div>\n",
       "<style scoped>\n",
       "    .dataframe tbody tr th:only-of-type {\n",
       "        vertical-align: middle;\n",
       "    }\n",
       "\n",
       "    .dataframe tbody tr th {\n",
       "        vertical-align: top;\n",
       "    }\n",
       "\n",
       "    .dataframe thead th {\n",
       "        text-align: right;\n",
       "    }\n",
       "</style>\n",
       "<table border=\"1\" class=\"dataframe\">\n",
       "  <thead>\n",
       "    <tr style=\"text-align: right;\">\n",
       "      <th></th>\n",
       "      <th>Age</th>\n",
       "      <th>RoomService</th>\n",
       "      <th>FoodCourt</th>\n",
       "      <th>ShoppingMall</th>\n",
       "      <th>Spa</th>\n",
       "      <th>VRDeck</th>\n",
       "    </tr>\n",
       "  </thead>\n",
       "  <tbody>\n",
       "    <tr>\n",
       "      <th>count</th>\n",
       "      <td>7926.000000</td>\n",
       "      <td>7912.000000</td>\n",
       "      <td>7902.000000</td>\n",
       "      <td>7914.000000</td>\n",
       "      <td>7909.000000</td>\n",
       "      <td>7910.000000</td>\n",
       "    </tr>\n",
       "    <tr>\n",
       "      <th>mean</th>\n",
       "      <td>29.484229</td>\n",
       "      <td>349.153185</td>\n",
       "      <td>709.269046</td>\n",
       "      <td>274.165782</td>\n",
       "      <td>482.310532</td>\n",
       "      <td>481.595196</td>\n",
       "    </tr>\n",
       "    <tr>\n",
       "      <th>std</th>\n",
       "      <td>14.030870</td>\n",
       "      <td>781.652731</td>\n",
       "      <td>1945.240029</td>\n",
       "      <td>723.914453</td>\n",
       "      <td>1375.663790</td>\n",
       "      <td>1453.900973</td>\n",
       "    </tr>\n",
       "    <tr>\n",
       "      <th>min</th>\n",
       "      <td>0.000000</td>\n",
       "      <td>0.000000</td>\n",
       "      <td>0.000000</td>\n",
       "      <td>0.000000</td>\n",
       "      <td>0.000000</td>\n",
       "      <td>0.000000</td>\n",
       "    </tr>\n",
       "    <tr>\n",
       "      <th>25%</th>\n",
       "      <td>20.000000</td>\n",
       "      <td>0.000000</td>\n",
       "      <td>0.000000</td>\n",
       "      <td>0.000000</td>\n",
       "      <td>0.000000</td>\n",
       "      <td>0.000000</td>\n",
       "    </tr>\n",
       "    <tr>\n",
       "      <th>50%</th>\n",
       "      <td>27.000000</td>\n",
       "      <td>3.000000</td>\n",
       "      <td>6.000000</td>\n",
       "      <td>2.000000</td>\n",
       "      <td>8.000000</td>\n",
       "      <td>3.000000</td>\n",
       "    </tr>\n",
       "    <tr>\n",
       "      <th>75%</th>\n",
       "      <td>38.000000</td>\n",
       "      <td>399.000000</td>\n",
       "      <td>539.750000</td>\n",
       "      <td>250.500000</td>\n",
       "      <td>364.000000</td>\n",
       "      <td>342.000000</td>\n",
       "    </tr>\n",
       "    <tr>\n",
       "      <th>max</th>\n",
       "      <td>79.000000</td>\n",
       "      <td>14327.000000</td>\n",
       "      <td>29813.000000</td>\n",
       "      <td>23492.000000</td>\n",
       "      <td>22408.000000</td>\n",
       "      <td>24133.000000</td>\n",
       "    </tr>\n",
       "  </tbody>\n",
       "</table>\n",
       "</div>"
      ],
      "text/plain": [
       "               Age   RoomService     FoodCourt  ShoppingMall           Spa  \\\n",
       "count  7926.000000   7912.000000   7902.000000   7914.000000   7909.000000   \n",
       "mean     29.484229    349.153185    709.269046    274.165782    482.310532   \n",
       "std      14.030870    781.652731   1945.240029    723.914453   1375.663790   \n",
       "min       0.000000      0.000000      0.000000      0.000000      0.000000   \n",
       "25%      20.000000      0.000000      0.000000      0.000000      0.000000   \n",
       "50%      27.000000      3.000000      6.000000      2.000000      8.000000   \n",
       "75%      38.000000    399.000000    539.750000    250.500000    364.000000   \n",
       "max      79.000000  14327.000000  29813.000000  23492.000000  22408.000000   \n",
       "\n",
       "             VRDeck  \n",
       "count   7910.000000  \n",
       "mean     481.595196  \n",
       "std     1453.900973  \n",
       "min        0.000000  \n",
       "25%        0.000000  \n",
       "50%        3.000000  \n",
       "75%      342.000000  \n",
       "max    24133.000000  "
      ]
     },
     "execution_count": 12,
     "metadata": {},
     "output_type": "execute_result"
    }
   ],
   "source": [
    "df[df['CryoSleep']==False].describe()"
   ]
  },
  {
   "cell_type": "code",
   "execution_count": 13,
   "id": "d28c3d26",
   "metadata": {},
   "outputs": [
    {
     "data": {
      "text/plain": [
       "PassengerId       0\n",
       "HomePlanet      103\n",
       "CryoSleep         0\n",
       "Cabin           119\n",
       "Destination      80\n",
       "Age             114\n",
       "VIP             104\n",
       "RoomService      93\n",
       "FoodCourt       109\n",
       "ShoppingMall    131\n",
       "Spa             107\n",
       "VRDeck           91\n",
       "Transported       0\n",
       "train_test        0\n",
       "dtype: int64"
      ]
     },
     "execution_count": 13,
     "metadata": {},
     "output_type": "execute_result"
    }
   ],
   "source": [
    "df[df['CryoSleep']==True].isnull().sum()"
   ]
  },
  {
   "cell_type": "code",
   "execution_count": 14,
   "id": "2f11301f",
   "metadata": {},
   "outputs": [
    {
     "data": {
      "text/plain": [
       "PassengerId       0\n",
       "HomePlanet      103\n",
       "CryoSleep         0\n",
       "Cabin           119\n",
       "Destination      80\n",
       "Age             114\n",
       "VIP             104\n",
       "RoomService       0\n",
       "FoodCourt         0\n",
       "ShoppingMall      0\n",
       "Spa               0\n",
       "VRDeck            0\n",
       "Transported       0\n",
       "train_test        0\n",
       "dtype: int64"
      ]
     },
     "execution_count": 14,
     "metadata": {},
     "output_type": "execute_result"
    }
   ],
   "source": [
    "# changing if cryoleep is true, all the luxury amenities to 0\n",
    "df[\"RoomService\"] = np.where(((df[\"CryoSleep\"] == True) & (df[\"RoomService\"].isnull())), 0, df[\"RoomService\"])\n",
    "df[\"FoodCourt\"] = np.where(((df[\"CryoSleep\"] == True) & (df[\"FoodCourt\"].isnull())), 0, df[\"FoodCourt\"])\n",
    "df[\"ShoppingMall\"] = np.where(((df[\"CryoSleep\"] == True) & (df[\"ShoppingMall\"].isnull())), 0, df[\"ShoppingMall\"])\n",
    "df[\"Spa\"] = np.where(((df[\"CryoSleep\"] == True) & (df[\"Spa\"].isnull())), 0, df[\"Spa\"])\n",
    "df[\"VRDeck\"] = np.where(((df[\"CryoSleep\"] == True) & (df[\"VRDeck\"].isnull())), 0, df[\"VRDeck\"])\n",
    "df[df['CryoSleep']==True].isnull().sum()"
   ]
  },
  {
   "cell_type": "code",
   "execution_count": 15,
   "id": "3449a10c",
   "metadata": {},
   "outputs": [],
   "source": [
    "# split Cabin column to 3 new columns deck/num/side, where side can be either P for Port or S for Starboard.\n",
    "df[['Cabin_deck', 'Cabin_no', 'Cabin_side']] = df['Cabin'].str.split('/', expand=True)\n",
    "df[['Passenger_no', 'Passenger_group']] = df['PassengerId'].str.split('_', expand=True)"
   ]
  },
  {
   "cell_type": "code",
   "execution_count": 16,
   "id": "4bc2cae2",
   "metadata": {},
   "outputs": [
    {
     "data": {
      "text/html": [
       "<div>\n",
       "<style scoped>\n",
       "    .dataframe tbody tr th:only-of-type {\n",
       "        vertical-align: middle;\n",
       "    }\n",
       "\n",
       "    .dataframe tbody tr th {\n",
       "        vertical-align: top;\n",
       "    }\n",
       "\n",
       "    .dataframe thead th {\n",
       "        text-align: right;\n",
       "    }\n",
       "</style>\n",
       "<table border=\"1\" class=\"dataframe\">\n",
       "  <thead>\n",
       "    <tr style=\"text-align: right;\">\n",
       "      <th>HomePlanet</th>\n",
       "      <th>Earth</th>\n",
       "      <th>Europa</th>\n",
       "      <th>Mars</th>\n",
       "    </tr>\n",
       "    <tr>\n",
       "      <th>Cabin_deck</th>\n",
       "      <th></th>\n",
       "      <th></th>\n",
       "      <th></th>\n",
       "    </tr>\n",
       "  </thead>\n",
       "  <tbody>\n",
       "    <tr>\n",
       "      <th>A</th>\n",
       "      <td>NaN</td>\n",
       "      <td>346.0</td>\n",
       "      <td>NaN</td>\n",
       "    </tr>\n",
       "    <tr>\n",
       "      <th>B</th>\n",
       "      <td>NaN</td>\n",
       "      <td>1124.0</td>\n",
       "      <td>NaN</td>\n",
       "    </tr>\n",
       "    <tr>\n",
       "      <th>C</th>\n",
       "      <td>NaN</td>\n",
       "      <td>1081.0</td>\n",
       "      <td>NaN</td>\n",
       "    </tr>\n",
       "    <tr>\n",
       "      <th>D</th>\n",
       "      <td>NaN</td>\n",
       "      <td>296.0</td>\n",
       "      <td>406.0</td>\n",
       "    </tr>\n",
       "    <tr>\n",
       "      <th>E</th>\n",
       "      <td>583.0</td>\n",
       "      <td>197.0</td>\n",
       "      <td>508.0</td>\n",
       "    </tr>\n",
       "    <tr>\n",
       "      <th>F</th>\n",
       "      <td>2426.0</td>\n",
       "      <td>NaN</td>\n",
       "      <td>1713.0</td>\n",
       "    </tr>\n",
       "    <tr>\n",
       "      <th>G</th>\n",
       "      <td>3700.0</td>\n",
       "      <td>NaN</td>\n",
       "      <td>NaN</td>\n",
       "    </tr>\n",
       "    <tr>\n",
       "      <th>T</th>\n",
       "      <td>NaN</td>\n",
       "      <td>10.0</td>\n",
       "      <td>NaN</td>\n",
       "    </tr>\n",
       "  </tbody>\n",
       "</table>\n",
       "</div>"
      ],
      "text/plain": [
       "HomePlanet   Earth  Europa    Mars\n",
       "Cabin_deck                        \n",
       "A              NaN   346.0     NaN\n",
       "B              NaN  1124.0     NaN\n",
       "C              NaN  1081.0     NaN\n",
       "D              NaN   296.0   406.0\n",
       "E            583.0   197.0   508.0\n",
       "F           2426.0     NaN  1713.0\n",
       "G           3700.0     NaN     NaN\n",
       "T              NaN    10.0     NaN"
      ]
     },
     "execution_count": 16,
     "metadata": {},
     "output_type": "execute_result"
    }
   ],
   "source": [
    "df_pivot = pd.pivot_table(df, index='Cabin_deck', columns='HomePlanet', values='Cabin' , aggfunc='count')\n",
    "df_pivot"
   ]
  },
  {
   "cell_type": "markdown",
   "id": "e1ddc27d",
   "metadata": {},
   "source": [
    "    looks like A, B, C and T cabins were for people travelling from Europa, G only from Earth"
   ]
  },
  {
   "cell_type": "code",
   "execution_count": 17,
   "id": "de58e5f0",
   "metadata": {},
   "outputs": [],
   "source": [
    "# fill Nan's on HomePlanet, according to Cabin_deck\n",
    "df[\"HomePlanet\"] = np.where(((df[\"Cabin_deck\"] == 'G') & (df[\"HomePlanet\"].isnull())), 'Earth', df[\"HomePlanet\"])\n",
    "df[\"HomePlanet\"] = np.where(((df[\"Cabin_deck\"] == 'A') & (df[\"HomePlanet\"].isnull())), 'Europa', df[\"HomePlanet\"])\n",
    "df[\"HomePlanet\"] = np.where(((df[\"Cabin_deck\"] == 'B') & (df[\"HomePlanet\"].isnull())), 'Europa', df[\"HomePlanet\"])\n",
    "df[\"HomePlanet\"] = np.where(((df[\"Cabin_deck\"] == 'C') & (df[\"HomePlanet\"].isnull())), 'Europa', df[\"HomePlanet\"])\n",
    "df[\"HomePlanet\"] = np.where(((df[\"Cabin_deck\"] == 'T') & (df[\"HomePlanet\"].isnull())), 'Europa', df[\"HomePlanet\"])"
   ]
  },
  {
   "cell_type": "code",
   "execution_count": 18,
   "id": "f18292cd",
   "metadata": {},
   "outputs": [],
   "source": [
    "# drop columns that are not helpful\n",
    "df.drop(['PassengerId', 'Cabin', 'Cabin_no', 'Passenger_no'], axis=1, inplace=True)"
   ]
  },
  {
   "cell_type": "code",
   "execution_count": 19,
   "id": "17e30b7a",
   "metadata": {},
   "outputs": [],
   "source": [
    "# for the rest missing values I'll use Iterative Imputer\n",
    "# Transform categorical data with values to digits\n",
    "df['HomePlanet'] = df['HomePlanet'].replace({'Mars': 1, 'Europa':2, 'Earth':3})\n",
    "df['Destination'] = df['Destination'].replace({'55 Cancri e': 1, 'TRAPPIST-1e':2, 'PSO J318.5-22':3})\n",
    "df['Cabin_deck'] = df['Cabin_deck'].replace({'A': 1, 'B':2, 'C':3, 'D':4, 'E':5, 'F':6, 'G':7, 'T':8})\n",
    "df['Cabin_side'] = df['Cabin_side'].replace({'P': 1, 'S':2})\n",
    "df['train_test'] = df['train_test'].replace({'test': 0, 'train':1})"
   ]
  },
  {
   "cell_type": "code",
   "execution_count": 20,
   "id": "7f7e34b0",
   "metadata": {},
   "outputs": [],
   "source": [
    "imputer = IterativeImputer(random_state=42)\n",
    "imputed = imputer.fit_transform(df)\n",
    "df_imputed = pd.DataFrame(imputed, columns=df.columns)"
   ]
  },
  {
   "cell_type": "code",
   "execution_count": 21,
   "id": "f7d544a1",
   "metadata": {},
   "outputs": [
    {
     "data": {
      "text/plain": [
       "HomePlanet         0\n",
       "CryoSleep          0\n",
       "Destination        0\n",
       "Age                0\n",
       "VIP                0\n",
       "RoomService        0\n",
       "FoodCourt          0\n",
       "ShoppingMall       0\n",
       "Spa                0\n",
       "VRDeck             0\n",
       "Transported        0\n",
       "train_test         0\n",
       "Cabin_deck         0\n",
       "Cabin_side         0\n",
       "Passenger_group    0\n",
       "dtype: int64"
      ]
     },
     "execution_count": 21,
     "metadata": {},
     "output_type": "execute_result"
    }
   ],
   "source": [
    "df_imputed.isnull().sum()"
   ]
  },
  {
   "cell_type": "code",
   "execution_count": 22,
   "id": "feaaef33",
   "metadata": {},
   "outputs": [
    {
     "data": {
      "text/html": [
       "<div>\n",
       "<style scoped>\n",
       "    .dataframe tbody tr th:only-of-type {\n",
       "        vertical-align: middle;\n",
       "    }\n",
       "\n",
       "    .dataframe tbody tr th {\n",
       "        vertical-align: top;\n",
       "    }\n",
       "\n",
       "    .dataframe thead th {\n",
       "        text-align: right;\n",
       "    }\n",
       "</style>\n",
       "<table border=\"1\" class=\"dataframe\">\n",
       "  <thead>\n",
       "    <tr style=\"text-align: right;\">\n",
       "      <th></th>\n",
       "      <th>HomePlanet</th>\n",
       "      <th>CryoSleep</th>\n",
       "      <th>Destination</th>\n",
       "      <th>Age</th>\n",
       "      <th>VIP</th>\n",
       "      <th>RoomService</th>\n",
       "      <th>FoodCourt</th>\n",
       "      <th>ShoppingMall</th>\n",
       "      <th>Spa</th>\n",
       "      <th>VRDeck</th>\n",
       "      <th>Transported</th>\n",
       "      <th>train_test</th>\n",
       "      <th>Cabin_deck</th>\n",
       "      <th>Cabin_side</th>\n",
       "      <th>Passenger_group</th>\n",
       "    </tr>\n",
       "  </thead>\n",
       "  <tbody>\n",
       "    <tr>\n",
       "      <th>0</th>\n",
       "      <td>Europa</td>\n",
       "      <td>False</td>\n",
       "      <td>TRAPPIST-1e</td>\n",
       "      <td>39.0</td>\n",
       "      <td>False</td>\n",
       "      <td>0.0</td>\n",
       "      <td>0.0</td>\n",
       "      <td>0.0</td>\n",
       "      <td>0.0</td>\n",
       "      <td>0.0</td>\n",
       "      <td>0.0</td>\n",
       "      <td>1.0</td>\n",
       "      <td>B</td>\n",
       "      <td>Port</td>\n",
       "      <td>1.0</td>\n",
       "    </tr>\n",
       "    <tr>\n",
       "      <th>1</th>\n",
       "      <td>Earth</td>\n",
       "      <td>False</td>\n",
       "      <td>TRAPPIST-1e</td>\n",
       "      <td>24.0</td>\n",
       "      <td>False</td>\n",
       "      <td>109.0</td>\n",
       "      <td>9.0</td>\n",
       "      <td>25.0</td>\n",
       "      <td>549.0</td>\n",
       "      <td>44.0</td>\n",
       "      <td>1.0</td>\n",
       "      <td>1.0</td>\n",
       "      <td>F</td>\n",
       "      <td>Starboard</td>\n",
       "      <td>1.0</td>\n",
       "    </tr>\n",
       "    <tr>\n",
       "      <th>2</th>\n",
       "      <td>Europa</td>\n",
       "      <td>False</td>\n",
       "      <td>TRAPPIST-1e</td>\n",
       "      <td>58.0</td>\n",
       "      <td>True</td>\n",
       "      <td>43.0</td>\n",
       "      <td>3576.0</td>\n",
       "      <td>0.0</td>\n",
       "      <td>6715.0</td>\n",
       "      <td>49.0</td>\n",
       "      <td>0.0</td>\n",
       "      <td>1.0</td>\n",
       "      <td>A</td>\n",
       "      <td>Starboard</td>\n",
       "      <td>1.0</td>\n",
       "    </tr>\n",
       "    <tr>\n",
       "      <th>3</th>\n",
       "      <td>Europa</td>\n",
       "      <td>False</td>\n",
       "      <td>TRAPPIST-1e</td>\n",
       "      <td>33.0</td>\n",
       "      <td>False</td>\n",
       "      <td>0.0</td>\n",
       "      <td>1283.0</td>\n",
       "      <td>371.0</td>\n",
       "      <td>3329.0</td>\n",
       "      <td>193.0</td>\n",
       "      <td>0.0</td>\n",
       "      <td>1.0</td>\n",
       "      <td>A</td>\n",
       "      <td>Starboard</td>\n",
       "      <td>2.0</td>\n",
       "    </tr>\n",
       "    <tr>\n",
       "      <th>4</th>\n",
       "      <td>Earth</td>\n",
       "      <td>False</td>\n",
       "      <td>TRAPPIST-1e</td>\n",
       "      <td>16.0</td>\n",
       "      <td>False</td>\n",
       "      <td>303.0</td>\n",
       "      <td>70.0</td>\n",
       "      <td>151.0</td>\n",
       "      <td>565.0</td>\n",
       "      <td>2.0</td>\n",
       "      <td>1.0</td>\n",
       "      <td>1.0</td>\n",
       "      <td>F</td>\n",
       "      <td>Starboard</td>\n",
       "      <td>1.0</td>\n",
       "    </tr>\n",
       "    <tr>\n",
       "      <th>...</th>\n",
       "      <td>...</td>\n",
       "      <td>...</td>\n",
       "      <td>...</td>\n",
       "      <td>...</td>\n",
       "      <td>...</td>\n",
       "      <td>...</td>\n",
       "      <td>...</td>\n",
       "      <td>...</td>\n",
       "      <td>...</td>\n",
       "      <td>...</td>\n",
       "      <td>...</td>\n",
       "      <td>...</td>\n",
       "      <td>...</td>\n",
       "      <td>...</td>\n",
       "      <td>...</td>\n",
       "    </tr>\n",
       "    <tr>\n",
       "      <th>12965</th>\n",
       "      <td>Earth</td>\n",
       "      <td>True</td>\n",
       "      <td>TRAPPIST-1e</td>\n",
       "      <td>34.0</td>\n",
       "      <td>False</td>\n",
       "      <td>0.0</td>\n",
       "      <td>0.0</td>\n",
       "      <td>0.0</td>\n",
       "      <td>0.0</td>\n",
       "      <td>0.0</td>\n",
       "      <td>0.0</td>\n",
       "      <td>0.0</td>\n",
       "      <td>G</td>\n",
       "      <td>Starboard</td>\n",
       "      <td>2.0</td>\n",
       "    </tr>\n",
       "    <tr>\n",
       "      <th>12966</th>\n",
       "      <td>Earth</td>\n",
       "      <td>False</td>\n",
       "      <td>TRAPPIST-1e</td>\n",
       "      <td>42.0</td>\n",
       "      <td>False</td>\n",
       "      <td>0.0</td>\n",
       "      <td>847.0</td>\n",
       "      <td>17.0</td>\n",
       "      <td>10.0</td>\n",
       "      <td>144.0</td>\n",
       "      <td>0.0</td>\n",
       "      <td>0.0</td>\n",
       "      <td>F</td>\n",
       "      <td>Starboard</td>\n",
       "      <td>1.0</td>\n",
       "    </tr>\n",
       "    <tr>\n",
       "      <th>12967</th>\n",
       "      <td>Mars</td>\n",
       "      <td>True</td>\n",
       "      <td>55 Cancri e</td>\n",
       "      <td>31.0</td>\n",
       "      <td>False</td>\n",
       "      <td>0.0</td>\n",
       "      <td>0.0</td>\n",
       "      <td>0.0</td>\n",
       "      <td>0.0</td>\n",
       "      <td>0.0</td>\n",
       "      <td>0.0</td>\n",
       "      <td>0.0</td>\n",
       "      <td>D</td>\n",
       "      <td>Port</td>\n",
       "      <td>1.0</td>\n",
       "    </tr>\n",
       "    <tr>\n",
       "      <th>12968</th>\n",
       "      <td>Europa</td>\n",
       "      <td>False</td>\n",
       "      <td>TRAPPIST-1e</td>\n",
       "      <td>33.0</td>\n",
       "      <td>False</td>\n",
       "      <td>0.0</td>\n",
       "      <td>2680.0</td>\n",
       "      <td>0.0</td>\n",
       "      <td>0.0</td>\n",
       "      <td>523.0</td>\n",
       "      <td>0.0</td>\n",
       "      <td>0.0</td>\n",
       "      <td>D</td>\n",
       "      <td>Port</td>\n",
       "      <td>1.0</td>\n",
       "    </tr>\n",
       "    <tr>\n",
       "      <th>12969</th>\n",
       "      <td>Earth</td>\n",
       "      <td>True</td>\n",
       "      <td>PSO J318.5-22</td>\n",
       "      <td>43.0</td>\n",
       "      <td>False</td>\n",
       "      <td>0.0</td>\n",
       "      <td>0.0</td>\n",
       "      <td>0.0</td>\n",
       "      <td>0.0</td>\n",
       "      <td>0.0</td>\n",
       "      <td>0.0</td>\n",
       "      <td>0.0</td>\n",
       "      <td>G</td>\n",
       "      <td>Starboard</td>\n",
       "      <td>1.0</td>\n",
       "    </tr>\n",
       "  </tbody>\n",
       "</table>\n",
       "<p>12970 rows × 15 columns</p>\n",
       "</div>"
      ],
      "text/plain": [
       "      HomePlanet CryoSleep    Destination   Age    VIP  RoomService  \\\n",
       "0         Europa     False    TRAPPIST-1e  39.0  False          0.0   \n",
       "1          Earth     False    TRAPPIST-1e  24.0  False        109.0   \n",
       "2         Europa     False    TRAPPIST-1e  58.0   True         43.0   \n",
       "3         Europa     False    TRAPPIST-1e  33.0  False          0.0   \n",
       "4          Earth     False    TRAPPIST-1e  16.0  False        303.0   \n",
       "...          ...       ...            ...   ...    ...          ...   \n",
       "12965      Earth      True    TRAPPIST-1e  34.0  False          0.0   \n",
       "12966      Earth     False    TRAPPIST-1e  42.0  False          0.0   \n",
       "12967       Mars      True    55 Cancri e  31.0  False          0.0   \n",
       "12968     Europa     False    TRAPPIST-1e  33.0  False          0.0   \n",
       "12969      Earth      True  PSO J318.5-22  43.0  False          0.0   \n",
       "\n",
       "       FoodCourt  ShoppingMall     Spa  VRDeck  Transported  train_test  \\\n",
       "0            0.0           0.0     0.0     0.0          0.0         1.0   \n",
       "1            9.0          25.0   549.0    44.0          1.0         1.0   \n",
       "2         3576.0           0.0  6715.0    49.0          0.0         1.0   \n",
       "3         1283.0         371.0  3329.0   193.0          0.0         1.0   \n",
       "4           70.0         151.0   565.0     2.0          1.0         1.0   \n",
       "...          ...           ...     ...     ...          ...         ...   \n",
       "12965        0.0           0.0     0.0     0.0          0.0         0.0   \n",
       "12966      847.0          17.0    10.0   144.0          0.0         0.0   \n",
       "12967        0.0           0.0     0.0     0.0          0.0         0.0   \n",
       "12968     2680.0           0.0     0.0   523.0          0.0         0.0   \n",
       "12969        0.0           0.0     0.0     0.0          0.0         0.0   \n",
       "\n",
       "      Cabin_deck Cabin_side  Passenger_group  \n",
       "0              B       Port              1.0  \n",
       "1              F  Starboard              1.0  \n",
       "2              A  Starboard              1.0  \n",
       "3              A  Starboard              2.0  \n",
       "4              F  Starboard              1.0  \n",
       "...          ...        ...              ...  \n",
       "12965          G  Starboard              2.0  \n",
       "12966          F  Starboard              1.0  \n",
       "12967          D       Port              1.0  \n",
       "12968          D       Port              1.0  \n",
       "12969          G  Starboard              1.0  \n",
       "\n",
       "[12970 rows x 15 columns]"
      ]
     },
     "execution_count": 22,
     "metadata": {},
     "output_type": "execute_result"
    }
   ],
   "source": [
    "# changing digits again to categories\n",
    "df_imputed[\"HomePlanet\"] = pd.cut( x=df_imputed[\"HomePlanet\"], bins=[-2, 1.5, 2.5, np.inf],\n",
    "                                  labels=['Mars', 'Europa', 'Earth'])\n",
    "df_imputed[\"Destination\"] = pd.cut( x=df_imputed[\"Destination\"], bins=[-2, 1.5, 2.5, np.inf],\n",
    "                                  labels=['55 Cancri e', 'TRAPPIST-1e', 'PSO J318.5-22'])\n",
    "df_imputed[\"CryoSleep\"] = pd.cut( x=df_imputed[\"CryoSleep\"], bins=[-2, 0.5, np.inf],\n",
    "                                  labels=['False', 'True'])\n",
    "df_imputed[\"VIP\"] = pd.cut( x=df_imputed[\"VIP\"], bins=[-1, 0.5, np.inf],\n",
    "                                  labels=['False', 'True'])\n",
    "df_imputed[\"Cabin_side\"] = pd.cut( x=df_imputed[\"Cabin_side\"], bins=[0, 1.5, np.inf],\n",
    "                                  labels=['Port', 'Starboard'])\n",
    "df_imputed[\"Cabin_deck\"] = pd.cut( x=df_imputed[\"Cabin_deck\"], bins=[0, 1.5, 2.5, 3.5, 4.5, 5.5, 6.5, 7.5, 8.5],\n",
    "                                  labels=['A', 'B', 'C', 'D', 'E', 'F', 'G', 'T'])\n",
    "round(df_imputed,0)"
   ]
  },
  {
   "cell_type": "code",
   "execution_count": 23,
   "id": "839a1e9b",
   "metadata": {},
   "outputs": [
    {
     "name": "stderr",
     "output_type": "stream",
     "text": [
      "C:\\Users\\HP\\AppData\\Local\\Temp\\ipykernel_18308\\860867335.py:3: SettingWithCopyWarning: \n",
      "A value is trying to be set on a copy of a slice from a DataFrame\n",
      "\n",
      "See the caveats in the documentation: https://pandas.pydata.org/pandas-docs/stable/user_guide/indexing.html#returning-a-view-versus-a-copy\n",
      "  train.drop(['train_test'], axis=1, inplace=True)\n"
     ]
    },
    {
     "data": {
      "text/plain": [
       "(8693, 14)"
      ]
     },
     "execution_count": 23,
     "metadata": {},
     "output_type": "execute_result"
    }
   ],
   "source": [
    "# create again train set\n",
    "train = df_imputed[df_imputed['train_test'] == 1]\n",
    "train.drop(['train_test'], axis=1, inplace=True)\n",
    "train.shape"
   ]
  },
  {
   "cell_type": "code",
   "execution_count": 24,
   "id": "ead37b4b",
   "metadata": {},
   "outputs": [
    {
     "data": {
      "image/png": "[encoded data removed]",
      "text/plain": [
       "<Figure size 432x432 with 1 Axes>"
      ]
     },
     "metadata": {},
     "output_type": "display_data"
    }
   ],
   "source": [
    "# create pie chart\n",
    "clas = dict(train.groupby('Transported')['Transported'].count())\n",
    "labels = ['0 - Not transported', '1 - Transported']\n",
    "colors = ['#99ff99', '#ff9999']\n",
    "values = clas.values()\n",
    "plt.figure(figsize=(6,6))\n",
    "plt.pie(data=df, x=values, labels=labels, autopct = '%1.1f%%', pctdistance=0.8, colors=colors)\n",
    "plt.title('Distinction between transported (1) and not transported (0)  to an alternate dimension', fontsize=16)\n",
    "plt.show()"
   ]
  },
  {
   "cell_type": "markdown",
   "id": "0ceed479",
   "metadata": {},
   "source": [
    "    the dataset is balanced (almost the same values for transported and non-transported)"
   ]
  },
  {
   "cell_type": "code",
   "execution_count": 25,
   "id": "02980ff0",
   "metadata": {},
   "outputs": [
    {
     "data": {
      "image/png": "[encoded data removed]",
      "text/plain": [
       "<Figure size 720x1584 with 6 Axes>"
      ]
     },
     "metadata": {
      "needs_background": "light"
     },
     "output_type": "display_data"
    }
   ],
   "source": [
    "fig=plt.figure(figsize=(10, 22))\n",
    "for i, var_name in enumerate(['HomePlanet','CryoSleep','Destination','VIP', 'Cabin_deck', 'Cabin_side']):\n",
    "    ax=fig.add_subplot(7, 1, i+1)\n",
    "    sns.countplot(data=train, x=var_name, axes=ax, hue='Transported')\n",
    "    ax.set_title(var_name, fontsize=12, fontweight='bold')\n",
    "fig.tight_layout()\n",
    "plt.show()"
   ]
  },
  {
   "cell_type": "code",
   "execution_count": 26,
   "id": "43e97d03",
   "metadata": {},
   "outputs": [
    {
     "data": {
      "image/png": "[encoded data removed]",
      "text/plain": [
       "<Figure size 720x576 with 2 Axes>"
      ]
     },
     "metadata": {
      "needs_background": "light"
     },
     "output_type": "display_data"
    }
   ],
   "source": [
    "# chcecking the correlations between variables\n",
    "corr=train.corr()\n",
    "plt.figure(figsize=(10,8))\n",
    "sns.heatmap(corr, annot=True, cmap='RdYlGn', linewidths=0.05)\n",
    "plt.show()"
   ]
  },
  {
   "cell_type": "code",
   "execution_count": 27,
   "id": "c86ba47f",
   "metadata": {},
   "outputs": [
    {
     "name": "stderr",
     "output_type": "stream",
     "text": [
      "C:\\Users\\HP\\AppData\\Local\\Temp\\ipykernel_18308\\3971200288.py:3: SettingWithCopyWarning: \n",
      "A value is trying to be set on a copy of a slice from a DataFrame\n",
      "\n",
      "See the caveats in the documentation: https://pandas.pydata.org/pandas-docs/stable/user_guide/indexing.html#returning-a-view-versus-a-copy\n",
      "  test.drop(['train_test'], axis=1, inplace=True)\n"
     ]
    }
   ],
   "source": [
    "# create again test set\n",
    "test = df_imputed[df_imputed['train_test'] == 0]\n",
    "test.drop(['train_test'], axis=1, inplace=True)"
   ]
  },
  {
   "cell_type": "markdown",
   "id": "a70451f6",
   "metadata": {},
   "source": [
    "## Data preprocessing"
   ]
  },
  {
   "cell_type": "code",
   "execution_count": 29,
   "id": "d6b2971c",
   "metadata": {},
   "outputs": [],
   "source": [
    "# one hot encoding\n",
    "train_ohe = pd.get_dummies(data=train, columns=['HomePlanet', 'CryoSleep', 'Destination', \n",
    "                                                'VIP', 'Cabin_deck', 'Cabin_side'])\n",
    "test_ohe = pd.get_dummies(data=test, columns=['HomePlanet', 'CryoSleep', 'Destination', \n",
    "                                                'VIP', 'Cabin_deck', 'Cabin_side'])"
   ]
  },
  {
   "cell_type": "markdown",
   "id": "f3ac86f6",
   "metadata": {},
   "source": [
    "## Standardizing The Data"
   ]
  },
  {
   "cell_type": "code",
   "execution_count": 30,
   "id": "cefaae3e",
   "metadata": {},
   "outputs": [],
   "source": [
    "X_train = train_ohe.drop('Transported',axis=1)\n",
    "y_train = train_ohe['Transported']\n",
    "X_test = test_ohe.drop('Transported',axis=1)\n",
    "y_test = test_ohe['Transported']"
   ]
  },
  {
   "cell_type": "code",
   "execution_count": 31,
   "id": "aaffc42d",
   "metadata": {},
   "outputs": [
    {
     "name": "stdout",
     "output_type": "stream",
     "text": [
      "X_train1 : (6954, 27)\n",
      "y_train1 : (6954,)\n",
      "X_validation : (1739, 27)\n",
      "y_validation : (1739,)\n"
     ]
    }
   ],
   "source": [
    "# I'll be working on train set\n",
    "X_train1, X_val, y_train1, y_val = train_test_split(X_train, y_train, test_size=0.2,random_state=42)\n",
    "\n",
    "print(\"X_train1 : \" + str(X_train1.shape))\n",
    "print(\"y_train1 : \" + str(y_train1.shape))\n",
    "print(\"X_validation : \" + str(X_val.shape))\n",
    "print(\"y_validation : \" + str(y_val.shape))"
   ]
  },
  {
   "cell_type": "code",
   "execution_count": 32,
   "id": "559a8fce",
   "metadata": {},
   "outputs": [],
   "source": [
    "scaler = StandardScaler()\n",
    "scaler.fit(X_train1)\n",
    "X_train1 = scaler.transform(X_train1)\n",
    "X_val = scaler.transform(X_val)"
   ]
  },
  {
   "cell_type": "markdown",
   "id": "f9f54a45",
   "metadata": {},
   "source": [
    "## Modelling"
   ]
  },
  {
   "cell_type": "code",
   "execution_count": 33,
   "id": "c797db23",
   "metadata": {},
   "outputs": [],
   "source": [
    "warnings.filterwarnings('ignore')"
   ]
  },
  {
   "cell_type": "code",
   "execution_count": null,
   "id": "0afeda18",
   "metadata": {
    "scrolled": true
   },
   "outputs": [],
   "source": [
    "models =[(\"CAT\", CatBoostClassifier(random_state=42)), (\"LGBM\", LGBMClassifier(random_state=42)),\n",
    "         (\"XGB\", XGBClassifier(random_state=42))]\n",
    "\n",
    "results = []\n",
    "names = []\n",
    "finalResults = []\n",
    "\n",
    "for name,model in models:\n",
    "    model.fit(X_train1, y_train1)\n",
    "    model_results = model.predict(X_val)\n",
    "    score = accuracy_score(y_val, model_results)\n",
    "    results.append(score)\n",
    "    names.append(name)\n",
    "    finalResults.append((name,score))\n",
    "    \n",
    "finalResults.sort(key=lambda k:k[1],reverse=True)"
   ]
  },
  {
   "cell_type": "code",
   "execution_count": 57,
   "id": "af7d6046",
   "metadata": {},
   "outputs": [
    {
     "data": {
      "text/plain": [
       "[('LGBM', 0.8108108108108109),\n",
       " ('XGB', 0.8096607245543416),\n",
       " ('CAT', 0.8067855089131685)]"
      ]
     },
     "execution_count": 57,
     "metadata": {},
     "output_type": "execute_result"
    }
   ],
   "source": [
    "finalResults  # Accuracy score for validation set"
   ]
  },
  {
   "cell_type": "markdown",
   "id": "1103810f",
   "metadata": {},
   "source": [
    "## Hyperparameters tuning"
   ]
  },
  {
   "cell_type": "markdown",
   "id": "93e35cca",
   "metadata": {},
   "source": [
    "### XGB hyperparameters tunig using optuna"
   ]
  },
  {
   "cell_type": "code",
   "execution_count": 58,
   "id": "a3998485",
   "metadata": {},
   "outputs": [],
   "source": [
    "def objective(trial):\n",
    "    \"\"\"Define the objective function\"\"\"\n",
    "\n",
    "    params = {\n",
    "        'max_depth': trial.suggest_int('max_depth', 1, 9),\n",
    "        'learning_rate': trial.suggest_loguniform('learning_rate', 0.01, 1.0),\n",
    "        'n_estimators': trial.suggest_int('n_estimators', 50, 500),\n",
    "        'min_child_weight': trial.suggest_int('min_child_weight', 1, 10),\n",
    "        'gamma': trial.suggest_loguniform('gamma', 1e-8, 1.0),\n",
    "        'subsample': trial.suggest_loguniform('subsample', 0.01, 1.0),\n",
    "        'colsample_bytree': trial.suggest_loguniform('colsample_bytree', 0.01, 1.0),\n",
    "        'reg_alpha': trial.suggest_loguniform('reg_alpha', 1e-8, 1.0),\n",
    "        'reg_lambda': trial.suggest_loguniform('reg_lambda', 1e-8, 1.0),\n",
    "        'random_state':42,\n",
    "        'eval_metric': 'mlogloss',\n",
    "        'use_label_encoder': False\n",
    "    }\n",
    "\n",
    "    # Fit the model\n",
    "    optuna_model = XGBClassifier(**params)\n",
    "    optuna_model.fit(X_train1, y_train1)\n",
    "\n",
    "    # Make predictions\n",
    "    y_pred = optuna_model.predict(X_val)\n",
    "\n",
    "    # Evaluate predictions\n",
    "    accuracy = accuracy_score(y_val, y_pred)\n",
    "    return accuracy"
   ]
  },
  {
   "cell_type": "code",
   "execution_count": 59,
   "id": "4c28129e",
   "metadata": {},
   "outputs": [
    {
     "name": "stderr",
     "output_type": "stream",
     "text": [
      "\u001b[32m[I 2023-08-28 11:01:41,757]\u001b[0m A new study created in memory with name: no-name-2b114318-c98c-4f83-a696-b9c4e0fd428a\u001b[0m\n"
     ]
    }
   ],
   "source": [
    "study = optuna.create_study(direction='maximize')"
   ]
  },
  {
   "cell_type": "code",
   "execution_count": null,
   "id": "7484d57b",
   "metadata": {},
   "outputs": [],
   "source": [
    "%%capture \n",
    "study.optimize(objective, n_trials=200);"
   ]
  },
  {
   "cell_type": "code",
   "execution_count": 61,
   "id": "e5469a3e",
   "metadata": {},
   "outputs": [
    {
     "name": "stdout",
     "output_type": "stream",
     "text": [
      "Number of finished trials: 200\n",
      "Best trial:\n",
      "  Value: 0.8102357676825762\n",
      "  Params: \n",
      "    max_depth: 6\n",
      "    learning_rate: 0.2543530855654515\n",
      "    n_estimators: 81\n",
      "    min_child_weight: 6\n",
      "    gamma: 0.00030403667044249177\n",
      "    subsample: 0.9989510993907672\n",
      "    colsample_bytree: 0.5024086942847149\n",
      "    reg_alpha: 0.010805594630753665\n",
      "    reg_lambda: 2.6366878807419376e-07\n"
     ]
    }
   ],
   "source": [
    "print('Number of finished trials: {}'.format(len(study.trials)))\n",
    "print('Best trial:')\n",
    "trial = study.best_trial\n",
    "\n",
    "print('  Value: {}'.format(trial.value))\n",
    "print('  Params: ')\n",
    "\n",
    "for key, value in trial.params.items():\n",
    "    print('    {}: {}'.format(key, value))"
   ]
  },
  {
   "cell_type": "code",
   "execution_count": 62,
   "id": "20af504d",
   "metadata": {},
   "outputs": [
    {
     "data": {
      "text/plain": [
       "array([[665, 196],\n",
       "       [152, 726]], dtype=int64)"
      ]
     },
     "execution_count": 62,
     "metadata": {},
     "output_type": "execute_result"
    }
   ],
   "source": [
    "# create a model with best parameters\n",
    "params = trial.params\n",
    "\n",
    "# fit model with best params\n",
    "model_xgb_optuna = XGBClassifier(**params)\n",
    "model_xgb_optuna.fit(X_train1, y_train1)\n",
    "\n",
    "xgb_results_optuna = model_xgb_optuna.predict(X_val)\n",
    "\n",
    "confusion_matrix(y_val, xgb_results_optuna)"
   ]
  },
  {
   "cell_type": "code",
   "execution_count": 63,
   "id": "07cf16a9",
   "metadata": {},
   "outputs": [
    {
     "name": "stdout",
     "output_type": "stream",
     "text": [
      "              precision    recall  f1-score   support\n",
      "\n",
      "         0.0       0.81      0.77      0.79       861\n",
      "         1.0       0.79      0.83      0.81       878\n",
      "\n",
      "    accuracy                           0.80      1739\n",
      "   macro avg       0.80      0.80      0.80      1739\n",
      "weighted avg       0.80      0.80      0.80      1739\n",
      "\n"
     ]
    }
   ],
   "source": [
    "print(classification_report(y_val, xgb_results_optuna))"
   ]
  },
  {
   "cell_type": "markdown",
   "id": "040e1dee",
   "metadata": {},
   "source": [
    "### CatBoost hyperparameters tunig using optuna"
   ]
  },
  {
   "cell_type": "code",
   "execution_count": 64,
   "id": "84ee9eb1",
   "metadata": {},
   "outputs": [],
   "source": [
    "def objective_cat(trial):\n",
    "    \"\"\"Define the objective function\"\"\"\n",
    "\n",
    "    params = {\n",
    "        'iterations':trial.suggest_int(\"iterations\", 100, 1000),\n",
    "        'learning_rate':trial.suggest_float(\"learning_rate\", 1e-3, 1e-1, log=True),\n",
    "        'depth':trial.suggest_int(\"depth\", 4, 10),\n",
    "        'l2_leaf_reg':trial.suggest_float(\"l2_leaf_reg\", 1e-8, 100.0, log=True),\n",
    "        'bootstrap_type':trial.suggest_categorical(\"bootstrap_type\", [\"Bayesian\"]),\n",
    "        'random_strength':trial.suggest_float(\"random_strength\", 1e-8, 10.0, log=True),\n",
    "        'bagging_temperature':trial.suggest_float(\"bagging_temperature\", 0.0, 10.0),\n",
    "        'od_type':trial.suggest_categorical(\"od_type\", [\"IncToDec\", \"Iter\"]),\n",
    "        'od_wait':trial.suggest_int(\"od_wait\", 10, 50),\n",
    "        'random_state': 42,\n",
    "        'verbose':False\n",
    "    }\n",
    "\n",
    "    # Fit the model\n",
    "    optuna_model = CatBoostClassifier(**params)\n",
    "    optuna_model.fit(X_train1, y_train1)\n",
    "\n",
    "    # Make predictions\n",
    "    y_pred = optuna_model.predict(X_val)\n",
    "\n",
    "    # Evaluate predictions\n",
    "    accuracy = accuracy_score(y_val, y_pred)\n",
    "    return accuracy"
   ]
  },
  {
   "cell_type": "code",
   "execution_count": 65,
   "id": "79fe0efe",
   "metadata": {},
   "outputs": [
    {
     "name": "stderr",
     "output_type": "stream",
     "text": [
      "\u001b[32m[I 2023-08-28 11:05:30,134]\u001b[0m A new study created in memory with name: no-name-436a11cc-20b6-4943-8720-49b0df99f9a9\u001b[0m\n"
     ]
    }
   ],
   "source": [
    "study = optuna.create_study(direction='maximize')"
   ]
  },
  {
   "cell_type": "code",
   "execution_count": null,
   "id": "fa21ee32",
   "metadata": {},
   "outputs": [],
   "source": [
    "%%capture\n",
    "study.optimize(objective_cat, n_trials=200);"
   ]
  },
  {
   "cell_type": "code",
   "execution_count": 67,
   "id": "a09d804f",
   "metadata": {},
   "outputs": [
    {
     "name": "stdout",
     "output_type": "stream",
     "text": [
      "Number of finished trials: 200\n",
      "Best trial:\n",
      "  Value: 0.81196089706728\n",
      "  Params: \n",
      "    iterations: 162\n",
      "    learning_rate: 0.08792965275181415\n",
      "    depth: 5\n",
      "    l2_leaf_reg: 4.9958552265081544e-06\n",
      "    bootstrap_type: Bayesian\n",
      "    random_strength: 0.042158937042670964\n",
      "    bagging_temperature: 0.22723242900146673\n",
      "    od_type: Iter\n",
      "    od_wait: 11\n"
     ]
    }
   ],
   "source": [
    "print('Number of finished trials: {}'.format(len(study.trials)))\n",
    "print('Best trial:')\n",
    "trial = study.best_trial\n",
    "\n",
    "print('  Value: {}'.format(trial.value))\n",
    "print('  Params: ')\n",
    "\n",
    "for key, value in trial.params.items():\n",
    "    print('    {}: {}'.format(key, value))"
   ]
  },
  {
   "cell_type": "code",
   "execution_count": null,
   "id": "afc375b4",
   "metadata": {},
   "outputs": [],
   "source": [
    "# create a model with best parameters\n",
    "params = trial.params\n",
    "\n",
    "# fit model with best params\n",
    "model_cat_optuna = CatBoostClassifier(**params)\n",
    "model_cat_optuna.fit(X_train1, y_train1)\n",
    "\n",
    "cat_results_optuna = model_cat_optuna.predict(X_val)"
   ]
  },
  {
   "cell_type": "code",
   "execution_count": 69,
   "id": "653e4798",
   "metadata": {},
   "outputs": [
    {
     "data": {
      "text/plain": [
       "array([[665, 196],\n",
       "       [140, 738]], dtype=int64)"
      ]
     },
     "execution_count": 69,
     "metadata": {},
     "output_type": "execute_result"
    }
   ],
   "source": [
    "confusion_matrix(y_val, cat_results_optuna)"
   ]
  },
  {
   "cell_type": "code",
   "execution_count": 70,
   "id": "f90040af",
   "metadata": {},
   "outputs": [
    {
     "name": "stdout",
     "output_type": "stream",
     "text": [
      "              precision    recall  f1-score   support\n",
      "\n",
      "         0.0       0.83      0.77      0.80       861\n",
      "         1.0       0.79      0.84      0.81       878\n",
      "\n",
      "    accuracy                           0.81      1739\n",
      "   macro avg       0.81      0.81      0.81      1739\n",
      "weighted avg       0.81      0.81      0.81      1739\n",
      "\n"
     ]
    }
   ],
   "source": [
    "print(classification_report(y_val, cat_results_optuna))"
   ]
  },
  {
   "cell_type": "markdown",
   "id": "8bb8c3c8",
   "metadata": {},
   "source": [
    "### LGBM Classifier hyperparameters tunig using optuna"
   ]
  },
  {
   "cell_type": "code",
   "execution_count": 83,
   "id": "d22afcf2",
   "metadata": {},
   "outputs": [],
   "source": [
    "def objective_lgbm(trial):\n",
    "    \"\"\"Define the objective function\"\"\"\n",
    "\n",
    "    params = {\n",
    "        \"num_leaves\": trial.suggest_int(\"num_leaves\", 2, 64),\n",
    "        'max_depth': trial.suggest_int('max_depth', 1, 9),\n",
    "        'learning_rate': trial.suggest_loguniform('learning_rate', 0.01, 1.0),\n",
    "        'n_estimators': trial.suggest_int('n_estimators', 50, 500),\n",
    "        \"colsample_bytree\": trial.suggest_float(\"colsample_bytree\", 0.4, 1.0),\n",
    "        \"min_child_samples\": trial.suggest_int(\"min_child_samples\", 5, 100),\n",
    "        \"reg_alpha\": trial.suggest_float(\"reg_alpha\", 0, 0.1),\n",
    "        \"reg_lambda\": trial.suggest_float(\"reg_lambda\", 0, 0.1),\n",
    "        'random_state':42\n",
    "    }\n",
    "\n",
    "    # Fit the model\n",
    "    optuna_model = LGBMClassifier(**params)\n",
    "    optuna_model.fit(X_train1, y_train1)\n",
    "\n",
    "    # Make predictions\n",
    "    y_pred = optuna_model.predict(X_val)\n",
    "\n",
    "    # Evaluate predictions\n",
    "    accuracy = accuracy_score(y_val, y_pred)\n",
    "    return accuracy"
   ]
  },
  {
   "cell_type": "code",
   "execution_count": 84,
   "id": "49fa19c7",
   "metadata": {},
   "outputs": [
    {
     "name": "stderr",
     "output_type": "stream",
     "text": [
      "\u001b[32m[I 2023-08-28 11:40:37,624]\u001b[0m A new study created in memory with name: lightgbm\u001b[0m\n"
     ]
    }
   ],
   "source": [
    "sampler = TPESampler(seed=1)\n",
    "study = optuna.create_study(study_name=\"lightgbm\", direction=\"maximize\", sampler=sampler)"
   ]
  },
  {
   "cell_type": "code",
   "execution_count": null,
   "id": "51170565",
   "metadata": {},
   "outputs": [],
   "source": [
    "study.optimize(objective_lgbm, n_trials=200);"
   ]
  },
  {
   "cell_type": "code",
   "execution_count": 86,
   "id": "1bd4e49a",
   "metadata": {},
   "outputs": [
    {
     "name": "stdout",
     "output_type": "stream",
     "text": [
      "Number of finished trials: 200\n",
      "Best trial:\n",
      "  Value: 0.8148361127084531\n",
      "  Params: \n",
      "    num_leaves: 30\n",
      "    max_depth: 9\n",
      "    learning_rate: 0.026605315273370886\n",
      "    n_estimators: 369\n",
      "    colsample_bytree: 0.4281801411327323\n",
      "    min_child_samples: 5\n",
      "    reg_alpha: 0.004412414562509258\n",
      "    reg_lambda: 0.07681623877004837\n"
     ]
    }
   ],
   "source": [
    "print('Number of finished trials: {}'.format(len(study.trials)))\n",
    "print('Best trial:')\n",
    "trial = study.best_trial\n",
    "\n",
    "print('  Value: {}'.format(trial.value))\n",
    "print('  Params: ')\n",
    "\n",
    "for key, value in trial.params.items():\n",
    "    print('    {}: {}'.format(key, value))"
   ]
  },
  {
   "cell_type": "code",
   "execution_count": 87,
   "id": "6de04419",
   "metadata": {},
   "outputs": [
    {
     "data": {
      "text/plain": [
       "array([[671, 190],\n",
       "       [141, 737]], dtype=int64)"
      ]
     },
     "execution_count": 87,
     "metadata": {},
     "output_type": "execute_result"
    }
   ],
   "source": [
    "# create a model with best parameters\n",
    "params = trial.params\n",
    "\n",
    "# fit model with best params\n",
    "model_lgbm_optuna = LGBMClassifier(**params)\n",
    "model_lgbm_optuna.fit(X_train1, y_train1)\n",
    "\n",
    "lgbm_results_optuna = model_lgbm_optuna.predict(X_val)\n",
    "\n",
    "confusion_matrix(y_val, lgbm_results_optuna)"
   ]
  },
  {
   "cell_type": "code",
   "execution_count": 88,
   "id": "65da63e7",
   "metadata": {},
   "outputs": [
    {
     "name": "stdout",
     "output_type": "stream",
     "text": [
      "              precision    recall  f1-score   support\n",
      "\n",
      "         0.0       0.83      0.78      0.80       861\n",
      "         1.0       0.80      0.84      0.82       878\n",
      "\n",
      "    accuracy                           0.81      1739\n",
      "   macro avg       0.81      0.81      0.81      1739\n",
      "weighted avg       0.81      0.81      0.81      1739\n",
      "\n"
     ]
    }
   ],
   "source": [
    "print(classification_report(y_val, lgbm_results_optuna))"
   ]
  },
  {
   "cell_type": "markdown",
   "id": "a3377331",
   "metadata": {},
   "source": [
    "# Logistic regression model with PyTorch"
   ]
  },
  {
   "cell_type": "code",
   "execution_count": 35,
   "id": "38e6a513",
   "metadata": {},
   "outputs": [],
   "source": [
    "class LogisticRegression(nn.Module):\n",
    "    def __init__(self, input_size, output_size):\n",
    "        super(LogisticRegression, self).__init__()\n",
    "        self.linear = nn.Linear(input_size, output_size)\n",
    "    \n",
    "    def forward(self, x):\n",
    "        out = torch.sigmoid(self.linear(x))\n",
    "        return out"
   ]
  },
  {
   "cell_type": "code",
   "execution_count": 40,
   "id": "3c5f6c3e",
   "metadata": {},
   "outputs": [],
   "source": [
    "epochs = 100000\n",
    "input_size = 27\n",
    "output_size = 1\n",
    "model = LogisticRegression(input_size, output_size)\n",
    "criterion = nn.BCELoss()\n",
    "optimizer = torch.optim.SGD(model.parameters(), lr=0.0001)"
   ]
  },
  {
   "cell_type": "code",
   "execution_count": 37,
   "id": "db9c2a02",
   "metadata": {},
   "outputs": [],
   "source": [
    "X_train1, X_val = torch.Tensor(X_train1),torch.Tensor(X_val)\n",
    "y_train1, y_val = torch.Tensor(y_train1.values),torch.Tensor(y_val.values)"
   ]
  },
  {
   "cell_type": "code",
   "execution_count": 41,
   "id": "476bc4d2",
   "metadata": {},
   "outputs": [
    {
     "name": "stderr",
     "output_type": "stream",
     "text": [
      "Training Epochs:  10%|█████▋                                                  | 10254/100000 [00:07<00:59, 1519.14it/s]"
     ]
    },
    {
     "name": "stdout",
     "output_type": "stream",
     "text": [
      "Iteration: 10000. \n",
      "Val - Loss: 0.5814090967178345. Accuracy: 73.66302472685452\n",
      "Train -  Loss: 0.5806117057800293. Accuracy: 73.32470520563704\n",
      "\n"
     ]
    },
    {
     "name": "stderr",
     "output_type": "stream",
     "text": [
      "Training Epochs:  20%|███████████▎                                            | 20282/100000 [00:14<00:58, 1361.33it/s]"
     ]
    },
    {
     "name": "stdout",
     "output_type": "stream",
     "text": [
      "Iteration: 20000. \n",
      "Val - Loss: 0.5347877740859985. Accuracy: 75.84818861414607\n",
      "Train -  Loss: 0.5333995819091797. Accuracy: 75.95628415300547\n",
      "\n"
     ]
    },
    {
     "name": "stderr",
     "output_type": "stream",
     "text": [
      "Training Epochs:  30%|████████████████▉                                       | 30276/100000 [00:21<00:45, 1540.19it/s]"
     ]
    },
    {
     "name": "stdout",
     "output_type": "stream",
     "text": [
      "Iteration: 30000. \n",
      "Val - Loss: 0.512274444103241. Accuracy: 76.36572742955721\n",
      "Train -  Loss: 0.5102322101593018. Accuracy: 76.99165947656026\n",
      "\n"
     ]
    },
    {
     "name": "stderr",
     "output_type": "stream",
     "text": [
      "Training Epochs:  40%|██████████████████████▌                                 | 40284/100000 [00:29<00:38, 1562.46it/s]"
     ]
    },
    {
     "name": "stdout",
     "output_type": "stream",
     "text": [
      "Iteration: 40000. \n",
      "Val - Loss: 0.499268501996994. Accuracy: 76.82576193214491\n",
      "Train -  Loss: 0.49664291739463806. Accuracy: 77.30802415875755\n",
      "\n"
     ]
    },
    {
     "name": "stderr",
     "output_type": "stream",
     "text": [
      "Training Epochs:  50%|████████████████████████████                            | 50194/100000 [00:37<00:32, 1523.04it/s]"
     ]
    },
    {
     "name": "stdout",
     "output_type": "stream",
     "text": [
      "Iteration: 50000. \n",
      "Val - Loss: 0.49067479372024536. Accuracy: 76.82576193214491\n",
      "Train -  Loss: 0.48755690455436707. Accuracy: 77.45182628702905\n",
      "\n"
     ]
    },
    {
     "name": "stderr",
     "output_type": "stream",
     "text": [
      "Training Epochs:  60%|█████████████████████████████████▋                      | 60157/100000 [00:50<00:34, 1169.39it/s]"
     ]
    },
    {
     "name": "stdout",
     "output_type": "stream",
     "text": [
      "Iteration: 60000. \n",
      "Val - Loss: 0.48442769050598145. Accuracy: 76.82576193214491\n",
      "Train -  Loss: 0.48089951276779175. Accuracy: 77.73943054357204\n",
      "\n"
     ]
    },
    {
     "name": "stderr",
     "output_type": "stream",
     "text": [
      "Training Epochs:  70%|███████████████████████████████████████▎                | 70102/100000 [01:04<00:28, 1039.35it/s]"
     ]
    },
    {
     "name": "stdout",
     "output_type": "stream",
     "text": [
      "Iteration: 70000. \n",
      "Val - Loss: 0.4795770049095154. Accuracy: 76.76825761932145\n",
      "Train -  Loss: 0.4757044315338135. Accuracy: 77.88323267184354\n",
      "\n"
     ]
    },
    {
     "name": "stderr",
     "output_type": "stream",
     "text": [
      "Training Epochs:  80%|█████████████████████████████████████████████▋           | 80154/100000 [01:16<00:25, 780.80it/s]"
     ]
    },
    {
     "name": "stdout",
     "output_type": "stream",
     "text": [
      "Iteration: 80000. \n",
      "Val - Loss: 0.47563910484313965. Accuracy: 76.71075330649799\n",
      "Train -  Loss: 0.47147059440612793. Accuracy: 77.85447224618925\n",
      "\n"
     ]
    },
    {
     "name": "stderr",
     "output_type": "stream",
     "text": [
      "Training Epochs:  90%|███████████████████████████████████████████████████▍     | 90158/100000 [01:27<00:09, 990.02it/s]"
     ]
    },
    {
     "name": "stdout",
     "output_type": "stream",
     "text": [
      "Iteration: 90000. \n",
      "Val - Loss: 0.47234028577804565. Accuracy: 76.71075330649799\n",
      "Train -  Loss: 0.4679126739501953. Accuracy: 77.8113316077078\n",
      "\n"
     ]
    },
    {
     "name": "stderr",
     "output_type": "stream",
     "text": [
      "Training Epochs: 100%|███████████████████████████████████████████████████████| 100000/100000 [01:37<00:00, 1022.29it/s]"
     ]
    },
    {
     "name": "stdout",
     "output_type": "stream",
     "text": [
      "Iteration: 100000. \n",
      "Val - Loss: 0.4695180058479309. Accuracy: 76.82576193214491\n",
      "Train -  Loss: 0.4648549556732178. Accuracy: 77.8400920333621\n",
      "\n"
     ]
    },
    {
     "name": "stderr",
     "output_type": "stream",
     "text": [
      "\n"
     ]
    }
   ],
   "source": [
    "losses = []\n",
    "losses_val = []\n",
    "Iterations = []\n",
    "iter = 0\n",
    "for epoch in tqdm(range(int(epochs)),desc='Training Epochs'):\n",
    "    x = X_train1\n",
    "    labels = y_train1\n",
    "    optimizer.zero_grad() # Setting our stored gradients equal to zero\n",
    "    outputs = model(X_train1)\n",
    "    loss = criterion(torch.squeeze(outputs), labels) \n",
    "    \n",
    "    loss.backward() # Computes the gradient of the given tensor w.r.t. the weights/bias\n",
    "    \n",
    "    optimizer.step() # Updates weights and biases with the optimizer (SGD)\n",
    "    \n",
    "    iter+=1\n",
    "    if iter%10000==0:\n",
    "        with torch.no_grad():\n",
    "            # Calculating the loss and accuracy for the test dataset\n",
    "            correct_val = 0\n",
    "            total_val = 0\n",
    "            outputs_val = torch.squeeze(model(X_val))\n",
    "            loss_val = criterion(outputs_val, y_val)\n",
    "            \n",
    "            predicted_val = outputs_val.round().detach().numpy()\n",
    "            total_val += y_val.size(0)\n",
    "            correct_val += np.sum(predicted_val == y_val.detach().numpy())\n",
    "            accuracy_val = 100 * correct_val/total_val\n",
    "            losses_val.append(loss_val.item())\n",
    "            \n",
    "            # Calculating the loss and accuracy for the train dataset\n",
    "            total = 0\n",
    "            correct = 0\n",
    "            total += y_train1.size(0)\n",
    "            correct += np.sum(torch.squeeze(outputs).round().detach().numpy() == y_train1.detach().numpy())\n",
    "            accuracy = 100 * correct/total\n",
    "            losses.append(loss.item())\n",
    "            Iterations.append(iter)\n",
    "            \n",
    "            print(f\"Iteration: {iter}. \\nVal - Loss: {loss_val.item()}. Accuracy: {accuracy_val}\")\n",
    "            print(f\"Train -  Loss: {loss.item()}. Accuracy: {accuracy}\\n\")"
   ]
  },
  {
   "cell_type": "code",
   "execution_count": 42,
   "id": "38f38ffd",
   "metadata": {},
   "outputs": [
    {
     "data": {
      "image/png": "[encoded data removed]",
      "text/plain": [
       "<Figure size 432x288 with 1 Axes>"
      ]
     },
     "metadata": {
      "needs_background": "light"
     },
     "output_type": "display_data"
    }
   ],
   "source": [
    "plt.plot(Iterations, losses, label='Train')\n",
    "plt.plot(Iterations, losses_val, label='Val')\n",
    "plt.xlabel(\"Epoch\")\n",
    "plt.ylabel(\"BCE Loss\")\n",
    "plt.title('Losses per 10,000 epochs')\n",
    "plt.legend()\n",
    "plt.show()"
   ]
  },
  {
   "cell_type": "markdown",
   "id": "5c6d01e2",
   "metadata": {},
   "source": [
    "# PyTorch: k-fold cross validation"
   ]
  },
  {
   "cell_type": "code",
   "execution_count": 43,
   "id": "4116efb9",
   "metadata": {},
   "outputs": [],
   "source": [
    "scaler = StandardScaler()\n",
    "scaler.fit(X_train)\n",
    "X_train = scaler.transform(X_train)"
   ]
  },
  {
   "cell_type": "code",
   "execution_count": 44,
   "id": "2e23fedf",
   "metadata": {},
   "outputs": [
    {
     "data": {
      "text/plain": [
       "(8693, 27)"
      ]
     },
     "execution_count": 44,
     "metadata": {},
     "output_type": "execute_result"
    }
   ],
   "source": [
    "X_train.shape"
   ]
  },
  {
   "cell_type": "code",
   "execution_count": 45,
   "id": "09f6a3b8",
   "metadata": {},
   "outputs": [],
   "source": [
    "X_train = torch.Tensor(X_train)\n",
    "y_train = torch.Tensor(y_train)"
   ]
  },
  {
   "cell_type": "code",
   "execution_count": 46,
   "id": "cebf103b",
   "metadata": {},
   "outputs": [],
   "source": [
    "import torch.nn.functional as F"
   ]
  },
  {
   "cell_type": "code",
   "execution_count": 47,
   "id": "4aa20bbf",
   "metadata": {},
   "outputs": [],
   "source": [
    "class SimpleNN(nn.Module):\n",
    "    def __init__(self):\n",
    "        super().__init__()\n",
    "        self.layer1 = nn.Linear(27, 128)\n",
    "        self.layer2 = nn.Linear(128, 256)\n",
    "        self.layer3 = nn.Linear(256, 128)\n",
    "        self.layer4 = nn.Linear(128, 1)\n",
    "\n",
    "    def forward(self, x):\n",
    "        x = self.layer1(x)\n",
    "        x = F.relu(x)\n",
    "        x = self.layer2(x)\n",
    "        x = F.relu(x)\n",
    "        x = self.layer3(x)\n",
    "        x = F.relu(x)\n",
    "        x = self.layer4(x)\n",
    "        x = torch.sigmoid(x)\n",
    "        return x"
   ]
  },
  {
   "cell_type": "code",
   "execution_count": 48,
   "id": "0a613d67",
   "metadata": {},
   "outputs": [
    {
     "name": "stdout",
     "output_type": "stream",
     "text": [
      "FOLD 0\n",
      "--------------------------------\n",
      "Valid Loss: 0.69579331390881 Accuracy: 0.4997124784358827 Epoch:0\n",
      "Loss: 0.47472596301372827 Accuracy: 0.7880356629278114 Epoch:0\n",
      "Valid Loss: 0.9497954713811539 Accuracy: 0.8073605520414031 Epoch:75\n",
      "Loss: 0.3285336579729985 Accuracy: 0.8333333333333334 Epoch:75\n",
      "Valid Loss: 1.1050724017167652 Accuracy: 0.8010350776308223 Epoch:150\n",
      "Loss: 0.30938966476714985 Accuracy: 0.8528904227782571 Epoch:150\n",
      "Valid Loss: 2.0251496825206545 Accuracy: 0.7849338700402531 Epoch:225\n",
      "Loss: 0.4333201585734477 Accuracy: 0.8554788610871441 Epoch:225\n",
      "Training Ended\n",
      "FOLD 1\n",
      "--------------------------------\n",
      "Valid Loss: 0.6927024394085244 Accuracy: 0.503737780333525 Epoch:0\n",
      "Loss: 0.45070955362133436 Accuracy: 0.7844406097210239 Epoch:0\n",
      "Valid Loss: 0.642926930507207 Accuracy: 0.7947096032202415 Epoch:75\n",
      "Loss: 0.31390452354949266 Accuracy: 0.8449813057233247 Epoch:75\n",
      "Valid Loss: 0.891424203583946 Accuracy: 0.7889591719378953 Epoch:150\n",
      "Loss: 0.4314348971514583 Accuracy: 0.8285878631003739 Epoch:150\n",
      "Valid Loss: 1.104751906770615 Accuracy: 0.7883841288096607 Epoch:225\n",
      "Loss: 0.30396799148757603 Accuracy: 0.8553350589588726 Epoch:225\n",
      "Training Ended\n",
      "FOLD 2\n",
      "--------------------------------\n",
      "Valid Loss: 0.6947460703084769 Accuracy: 0.4686601495112133 Epoch:0\n",
      "Loss: 0.4524639226905498 Accuracy: 0.780989358642508 Epoch:0\n",
      "Valid Loss: 0.5332518878889331 Accuracy: 0.78953421506613 Epoch:75\n",
      "Loss: 0.3035125226545238 Accuracy: 0.8464193270060397 Epoch:75\n",
      "Valid Loss: 1.4837263080839318 Accuracy: 0.7866589994249569 Epoch:150\n",
      "Loss: 0.3159546744885169 Accuracy: 0.858642507909117 Epoch:150\n",
      "Valid Loss: 2.1327315179214454 Accuracy: 0.780333525014376 Epoch:225\n",
      "Loss: 0.30921002637904577 Accuracy: 0.8631003738855335 Epoch:225\n",
      "Training Ended\n",
      "FOLD 3\n",
      "--------------------------------\n",
      "Valid Loss: 0.6922986975199059 Accuracy: 0.5017261219792866 Epoch:0\n",
      "Loss: 0.45322168308740723 Accuracy: 0.7817397555715313 Epoch:0\n",
      "Valid Loss: 0.8959180048063518 Accuracy: 0.8072497123130035 Epoch:75\n",
      "Loss: 0.31732209077376755 Accuracy: 0.8451473759884974 Epoch:75\n",
      "Valid Loss: 1.347253683109964 Accuracy: 0.7922899884925202 Epoch:150\n",
      "Loss: 0.32558225601440194 Accuracy: 0.8629762760603882 Epoch:150\n",
      "Valid Loss: 1.9520182278268767 Accuracy: 0.7836593785960875 Epoch:225\n",
      "Loss: 0.31061307962724066 Accuracy: 0.870884255930985 Epoch:225\n",
      "Training Ended\n",
      "FOLD 4\n",
      "--------------------------------\n",
      "Valid Loss: 0.6942331542628544 Accuracy: 0.4907940161104718 Epoch:0\n",
      "Loss: 0.44856177241488554 Accuracy: 0.7764198418404026 Epoch:0\n",
      "Valid Loss: 0.6703721270462448 Accuracy: 0.783084004602992 Epoch:75\n",
      "Loss: 0.3413677514670651 Accuracy: 0.8365204888569374 Epoch:75\n",
      "Valid Loss: 1.3547688677512597 Accuracy: 0.785385500575374 Epoch:150\n",
      "Loss: 0.2791244312638777 Accuracy: 0.8501797268152408 Epoch:150\n",
      "Valid Loss: 1.87745944533167 Accuracy: 0.7807825086306099 Epoch:225\n",
      "Loss: 0.49838275027566464 Accuracy: 0.8454349388928828 Epoch:225\n",
      "Training Ended\n",
      "Average Loss: 1.750268331051948 Average Accuracy: 0.780399367121694\n"
     ]
    }
   ],
   "source": [
    "# Define the K-fold Cross Validator\n",
    "k_folds = 5\n",
    "kfold = KFold(n_splits=k_folds, shuffle=True)\n",
    "\n",
    "dataset = torch.utils.data.TensorDataset(X_train, y_train)\n",
    "\n",
    "loss_list = []\n",
    "acc_list = []\n",
    "\n",
    "# K-fold Cross Validation model evaluation\n",
    "for fold, (train_ids, val_ids) in enumerate(kfold.split(dataset)):\n",
    "    \n",
    "    # Print\n",
    "    print(f'FOLD {fold}')\n",
    "    print('--------------------------------')\n",
    "    \n",
    "    # Sample elements randomly from a given list of ids, no replacement.\n",
    "    train_subsampler = torch.utils.data.SubsetRandomSampler(train_ids)\n",
    "    test_subsampler = torch.utils.data.SubsetRandomSampler(val_ids)\n",
    "    \n",
    "    # Define data loaders for training and testing data in this fold\n",
    "    train_loader = torch.utils.data.DataLoader(dataset,\n",
    "                                               batch_size=32,\n",
    "                                               sampler=train_subsampler)\n",
    "    valid_loader = torch.utils.data.DataLoader(dataset,\n",
    "                                               batch_size=32, \n",
    "                                               sampler=test_subsampler)\n",
    "    \n",
    "    # Init the neural network\n",
    "    simple_nn = SimpleNN()\n",
    "    optimizer = torch.optim.Adam(simple_nn.parameters(), lr=0.01)\n",
    "    error = nn.BCELoss()\n",
    "    \n",
    "    for epoch in range(300):\n",
    "        with torch.no_grad():\n",
    "            valid_loss = 0\n",
    "            num_right = 0\n",
    "            for tensor_x, tensor_y in valid_loader:\n",
    "                tensor_x = tensor_x.float()\n",
    "                tensor_y = tensor_y.float().reshape(-1, 1)\n",
    "                output = simple_nn(tensor_x)\n",
    "                loss = error(output, tensor_y)\n",
    "                valid_loss += loss.item() * len(tensor_x)\n",
    "                result = [1 if out >= 0.5 else 0 for out in output]\n",
    "                num_right += np.sum(np.array(result) == tensor_y.numpy().reshape(-1))\n",
    "            \n",
    "            valid_loss = valid_loss / len(valid_loader.sampler.indices)\n",
    "            valid_accuracy = num_right / len(valid_loader.sampler.indices)\n",
    "        \n",
    "            if epoch % 75 == 0:\n",
    "                print('Valid Loss: {} Accuracy: {} Epoch:{}'.format(valid_loss, valid_accuracy, epoch))\n",
    "    \n",
    "        train_loss = 0\n",
    "        num_right = 0\n",
    "        for tensor_x, tensor_y in train_loader:\n",
    "            tensor_x = tensor_x.float()\n",
    "            tensor_y = tensor_y.float().reshape(-1, 1)\n",
    "            optimizer.zero_grad()\n",
    "            output = simple_nn(tensor_x)\n",
    "            loss = error(output, tensor_y)\n",
    "            loss.backward()\n",
    "            optimizer.step()\n",
    "\n",
    "            train_loss += loss.item() * len(tensor_x)\n",
    "            result = [1 if out >= 0.5 else 0 for out in output]\n",
    "            num_right += np.sum(np.array(result) == tensor_y.numpy().reshape(-1))\n",
    "        \n",
    "        train_loss = train_loss / len(train_loader.sampler.indices)\n",
    "        accuracy = num_right / len(train_loader.sampler.indices)\n",
    "    \n",
    "        if epoch % 75 == 0:\n",
    "            print('Loss: {} Accuracy: {} Epoch:{}'.format(train_loss, accuracy, epoch))\n",
    "            \n",
    "    loss_list.append(valid_loss)\n",
    "    acc_list.append(valid_accuracy)\n",
    "\n",
    "    print('Training Ended')\n",
    "print('Average Loss: {} Average Accuracy: {}'.format(np.mean(loss_list), np.mean(acc_list)))  "
   ]
  },
  {
   "cell_type": "markdown",
   "id": "f26cc76d",
   "metadata": {},
   "source": [
    "# Conclusions:\n",
    "    1. XGBoost, CatBoost and LGBM classifiers gives accuracy on validation set about 81%\n",
    "    2. Hyperparameters tuning with Optuna improve the results to 81,5% (LGBM)\n",
    "    3. Pytorch logistic regression gives accuracy on validation set about 77%\n",
    "    4. Pytorch K-fold cross validation gives average accuracy on validation set about 78%"
   ]
  }
 ],
 "metadata": {
  "kernelspec": {
   "display_name": "Python 3 (ipykernel)",
   "language": "python",
   "name": "python3"
  },
  "language_info": {
   "codemirror_mode": {
    "name": "ipython",
    "version": 3
   },
   "file_extension": ".py",
   "mimetype": "text/x-python",
   "name": "python",
   "nbconvert_exporter": "python",
   "pygments_lexer": "ipython3",
   "version": "3.9.12"
  }
 },
 "nbformat": 4,
 "nbformat_minor": 5
}
